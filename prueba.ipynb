{
 "cells": [
  {
   "cell_type": "markdown",
   "metadata": {},
   "source": [
    "### Importar librería pandas:"
   ]
  },
  {
   "cell_type": "code",
   "execution_count": 176,
   "metadata": {},
   "outputs": [],
   "source": [
    "import pandas as pd"
   ]
  },
  {
   "cell_type": "markdown",
   "metadata": {},
   "source": [
    "### 1. Lectura del archivo"
   ]
  },
  {
   "cell_type": "code",
   "execution_count": 204,
   "metadata": {},
   "outputs": [],
   "source": [
    "df = pd.read_csv('listado-de-personal-2022-04.csv', sep=';', encoding='latin-1')"
   ]
  },
  {
   "cell_type": "markdown",
   "metadata": {},
   "source": [
    "### 2. Nombre de las columnas"
   ]
  },
  {
   "cell_type": "code",
   "execution_count": 205,
   "metadata": {},
   "outputs": [
    {
     "data": {
      "text/plain": [
       "Index(['Código', 'Nombre', 'Gerencia', 'Puesto'], dtype='object')"
      ]
     },
     "execution_count": 205,
     "metadata": {},
     "output_type": "execute_result"
    }
   ],
   "source": [
    "df.columns"
   ]
  },
  {
   "cell_type": "markdown",
   "metadata": {},
   "source": [
    "### 3. Cantidad de registros (filas)"
   ]
  },
  {
   "cell_type": "code",
   "execution_count": 206,
   "metadata": {},
   "outputs": [
    {
     "data": {
      "text/plain": [
       "761"
      ]
     },
     "execution_count": 206,
     "metadata": {},
     "output_type": "execute_result"
    }
   ],
   "source": [
    "df.shape[0]"
   ]
  },
  {
   "cell_type": "markdown",
   "metadata": {},
   "source": [
    "### 4. Ver los primeros 15 registros"
   ]
  },
  {
   "cell_type": "code",
   "execution_count": 207,
   "metadata": {},
   "outputs": [
    {
     "data": {
      "text/html": [
       "<div>\n",
       "<style scoped>\n",
       "    .dataframe tbody tr th:only-of-type {\n",
       "        vertical-align: middle;\n",
       "    }\n",
       "\n",
       "    .dataframe tbody tr th {\n",
       "        vertical-align: top;\n",
       "    }\n",
       "\n",
       "    .dataframe thead th {\n",
       "        text-align: right;\n",
       "    }\n",
       "</style>\n",
       "<table border=\"1\" class=\"dataframe\">\n",
       "  <thead>\n",
       "    <tr style=\"text-align: right;\">\n",
       "      <th></th>\n",
       "      <th>Código</th>\n",
       "      <th>Nombre</th>\n",
       "      <th>Gerencia</th>\n",
       "      <th>Puesto</th>\n",
       "    </tr>\n",
       "  </thead>\n",
       "  <tbody>\n",
       "    <tr>\n",
       "      <th>0</th>\n",
       "      <td>4</td>\n",
       "      <td>LEAL, Facundo</td>\n",
       "      <td>Gerencia General</td>\n",
       "      <td>Gerente General</td>\n",
       "    </tr>\n",
       "    <tr>\n",
       "      <th>1</th>\n",
       "      <td>8</td>\n",
       "      <td>COVINI, Agostina</td>\n",
       "      <td>Subgerencia de RRHH y RSE</td>\n",
       "      <td>Subgerente de RRHH y RSE</td>\n",
       "    </tr>\n",
       "    <tr>\n",
       "      <th>2</th>\n",
       "      <td>11</td>\n",
       "      <td>SALAMA, Alejandro Jonathan</td>\n",
       "      <td>Unidad de Auditoría Interna</td>\n",
       "      <td>Analista de Auditoria</td>\n",
       "    </tr>\n",
       "    <tr>\n",
       "      <th>3</th>\n",
       "      <td>12</td>\n",
       "      <td>PERICAS, Pablo Nicolas</td>\n",
       "      <td>Unidad de Auditoría Interna</td>\n",
       "      <td>Jefe de Unidad de Auditoría Interna</td>\n",
       "    </tr>\n",
       "    <tr>\n",
       "      <th>4</th>\n",
       "      <td>14</td>\n",
       "      <td>GARBARINO, Hernán</td>\n",
       "      <td>Gerencia de Operaciones</td>\n",
       "      <td>Auxiliar Administrativo</td>\n",
       "    </tr>\n",
       "    <tr>\n",
       "      <th>5</th>\n",
       "      <td>22</td>\n",
       "      <td>CANET, Nicolas Enrique</td>\n",
       "      <td>Gerencia de Administración y Finanzas</td>\n",
       "      <td>Gerente de Administración y Finanzas</td>\n",
       "    </tr>\n",
       "    <tr>\n",
       "      <th>6</th>\n",
       "      <td>23</td>\n",
       "      <td>AURELIO, Juan Antonio</td>\n",
       "      <td>Gerencia de Servicios Espaciales</td>\n",
       "      <td>Subgerente de Operaciones Satelitales</td>\n",
       "    </tr>\n",
       "    <tr>\n",
       "      <th>7</th>\n",
       "      <td>24</td>\n",
       "      <td>BEROS, Beatriz Ana</td>\n",
       "      <td>Gerencia de Operaciones</td>\n",
       "      <td>Coordinador Administrativo</td>\n",
       "    </tr>\n",
       "    <tr>\n",
       "      <th>8</th>\n",
       "      <td>25</td>\n",
       "      <td>BOADO, Gustavo Manuel</td>\n",
       "      <td>Gerencia de Servicios Espaciales</td>\n",
       "      <td>Jefe de Navegación y Control</td>\n",
       "    </tr>\n",
       "    <tr>\n",
       "      <th>9</th>\n",
       "      <td>27</td>\n",
       "      <td>CARRASCO, Maximiliano</td>\n",
       "      <td>Gerencia de Servicios Espaciales</td>\n",
       "      <td>Operador NOC</td>\n",
       "    </tr>\n",
       "    <tr>\n",
       "      <th>10</th>\n",
       "      <td>31</td>\n",
       "      <td>FABRIS, Martin German</td>\n",
       "      <td>Gerencia de Servicios Espaciales</td>\n",
       "      <td>Gerente de Servicios Espaciales</td>\n",
       "    </tr>\n",
       "    <tr>\n",
       "      <th>11</th>\n",
       "      <td>32</td>\n",
       "      <td>GANON, Luis Alberto</td>\n",
       "      <td>Gerencia de Servicios Espaciales</td>\n",
       "      <td>Jefe de RF Satelital (interino)</td>\n",
       "    </tr>\n",
       "    <tr>\n",
       "      <th>12</th>\n",
       "      <td>36</td>\n",
       "      <td>JASMINOY, Francisco</td>\n",
       "      <td>Gerencia Comercial</td>\n",
       "      <td>Ejecutivo de Cuentas</td>\n",
       "    </tr>\n",
       "    <tr>\n",
       "      <th>13</th>\n",
       "      <td>38</td>\n",
       "      <td>MANZANERA, Jose Luis</td>\n",
       "      <td>Gerencia de Servicios Espaciales</td>\n",
       "      <td>Analista de Calidad de VSAT</td>\n",
       "    </tr>\n",
       "    <tr>\n",
       "      <th>14</th>\n",
       "      <td>39</td>\n",
       "      <td>MONSALVE, Hernan Gustavo</td>\n",
       "      <td>Gerencia de Servicios Espaciales</td>\n",
       "      <td>Ingeniero de Operaciones</td>\n",
       "    </tr>\n",
       "  </tbody>\n",
       "</table>\n",
       "</div>"
      ],
      "text/plain": [
       "    Código                      Nombre                               Gerencia  \\\n",
       "0        4               LEAL, Facundo                       Gerencia General   \n",
       "1        8            COVINI, Agostina              Subgerencia de RRHH y RSE   \n",
       "2       11  SALAMA, Alejandro Jonathan            Unidad de Auditoría Interna   \n",
       "3       12      PERICAS, Pablo Nicolas            Unidad de Auditoría Interna   \n",
       "4       14           GARBARINO, Hernán                Gerencia de Operaciones   \n",
       "5       22      CANET, Nicolas Enrique  Gerencia de Administración y Finanzas   \n",
       "6       23       AURELIO, Juan Antonio       Gerencia de Servicios Espaciales   \n",
       "7       24          BEROS, Beatriz Ana                Gerencia de Operaciones   \n",
       "8       25       BOADO, Gustavo Manuel       Gerencia de Servicios Espaciales   \n",
       "9       27       CARRASCO, Maximiliano       Gerencia de Servicios Espaciales   \n",
       "10      31       FABRIS, Martin German       Gerencia de Servicios Espaciales   \n",
       "11      32         GANON, Luis Alberto       Gerencia de Servicios Espaciales   \n",
       "12      36         JASMINOY, Francisco                     Gerencia Comercial   \n",
       "13      38        MANZANERA, Jose Luis       Gerencia de Servicios Espaciales   \n",
       "14      39    MONSALVE, Hernan Gustavo       Gerencia de Servicios Espaciales   \n",
       "\n",
       "                                   Puesto  \n",
       "0                         Gerente General  \n",
       "1                Subgerente de RRHH y RSE  \n",
       "2                   Analista de Auditoria  \n",
       "3     Jefe de Unidad de Auditoría Interna  \n",
       "4                 Auxiliar Administrativo  \n",
       "5    Gerente de Administración y Finanzas  \n",
       "6   Subgerente de Operaciones Satelitales  \n",
       "7              Coordinador Administrativo  \n",
       "8            Jefe de Navegación y Control  \n",
       "9                            Operador NOC  \n",
       "10        Gerente de Servicios Espaciales  \n",
       "11        Jefe de RF Satelital (interino)  \n",
       "12                   Ejecutivo de Cuentas  \n",
       "13            Analista de Calidad de VSAT  \n",
       "14               Ingeniero de Operaciones  "
      ]
     },
     "execution_count": 207,
     "metadata": {},
     "output_type": "execute_result"
    }
   ],
   "source": [
    "df.head(15)"
   ]
  },
  {
   "cell_type": "markdown",
   "metadata": {},
   "source": [
    "### 5. Renombrar la columna 'Nombre' por 'Apellido y Nombre'"
   ]
  },
  {
   "cell_type": "code",
   "execution_count": 208,
   "metadata": {},
   "outputs": [],
   "source": [
    "df.rename(columns = {'Nombre':'Apellido y Nombre'}, inplace = True)"
   ]
  },
  {
   "cell_type": "markdown",
   "metadata": {},
   "source": [
    "### 6.a Separar la columna 'Apellido y Nombre' generando las columnas 'Apellido' y 'Nombre' que deben ser concatenadas al dataframe"
   ]
  },
  {
   "cell_type": "code",
   "execution_count": 209,
   "metadata": {},
   "outputs": [],
   "source": [
    "name = df[\"Apellido y Nombre\"].str.split(',', expand=True)\n",
    "name.columns = ['Apellido', 'Nombre']\n",
    "df = pd.concat([df, name], axis=1)"
   ]
  },
  {
   "cell_type": "markdown",
   "metadata": {},
   "source": [
    "### 6.b Una vez creadas las columnas, eliminar la columna 'Apellido y Nombre'"
   ]
  },
  {
   "cell_type": "code",
   "execution_count": 211,
   "metadata": {},
   "outputs": [],
   "source": [
    "df.drop(df.columns[1], axis=1, inplace=True)"
   ]
  },
  {
   "cell_type": "markdown",
   "metadata": {},
   "source": [
    "### 6.c Ordenar las columnas de modo tal que el orden sea: 'Código', 'Apellido', 'Nombre', 'Gerencia', 'Puesto'"
   ]
  },
  {
   "cell_type": "code",
   "execution_count": 213,
   "metadata": {},
   "outputs": [],
   "source": [
    "df = df[['Código', 'Apellido', 'Nombre', 'Gerencia','Puesto']]"
   ]
  },
  {
   "cell_type": "markdown",
   "metadata": {},
   "source": [
    "### 7.a Ver un listado de todas las gerencias que informa el dataframe "
   ]
  },
  {
   "cell_type": "code",
   "execution_count": 215,
   "metadata": {},
   "outputs": [
    {
     "name": "stdout",
     "output_type": "stream",
     "text": [
      "['Gerencia General' 'Subgerencia de RRHH y RSE'\n",
      " 'Unidad de Auditoría Interna' 'Gerencia de Operaciones'\n",
      " 'Gerencia de Administración y Finanzas'\n",
      " 'Gerencia de Servicios Espaciales' 'Gerencia Comercial'\n",
      " 'Subgerencia de Servicios Corporativos y Logística'\n",
      " 'Gerencia de Tecnología Informática' 'Secretaría General' 'Directorio'\n",
      " 'Gerencia de Asuntos Jurídicos' 'Gerencia de Relaciones Institucionales'\n",
      " 'Compliance' 'CEATSA' 'Presidencia']\n"
     ]
    }
   ],
   "source": [
    "lista_gerencias = df['Gerencia'].unique()\n",
    "print(lista_gerencias)"
   ]
  },
  {
   "cell_type": "markdown",
   "metadata": {},
   "source": [
    "### 7.b Cantidad de gerencias informadas"
   ]
  },
  {
   "cell_type": "code",
   "execution_count": 216,
   "metadata": {},
   "outputs": [
    {
     "name": "stdout",
     "output_type": "stream",
     "text": [
      "16\n"
     ]
    }
   ],
   "source": [
    "print(len(lista_gerencias))"
   ]
  },
  {
   "cell_type": "markdown",
   "metadata": {},
   "source": [
    "### 8.a Crear un nuevo dataframe con los registros que son ingenieros"
   ]
  },
  {
   "cell_type": "code",
   "execution_count": 217,
   "metadata": {},
   "outputs": [],
   "source": [
    "df_ingenieros = df[df['Puesto'].str.contains('Ingeniero')]"
   ]
  },
  {
   "cell_type": "markdown",
   "metadata": {},
   "source": [
    "### 8.b Cantidad de ingenieros informados"
   ]
  },
  {
   "cell_type": "code",
   "execution_count": 218,
   "metadata": {},
   "outputs": [
    {
     "data": {
      "text/plain": [
       "43"
      ]
     },
     "execution_count": 218,
     "metadata": {},
     "output_type": "execute_result"
    }
   ],
   "source": [
    "df_ingenieros.shape[0]"
   ]
  },
  {
   "cell_type": "markdown",
   "metadata": {},
   "source": [
    "### 9.a Generar una nueva columna llamada 'Antigüedad' con valores en base a la columna 'Código':"
   ]
  },
  {
   "cell_type": "markdown",
   "metadata": {},
   "source": [
    "- Si el Código está entre 0 y 300 -> Va a tener el valor de 'Antigüedad 1'\n",
    "- Si el Código está entre 301 y 900 -> Va a tener el valor de 'Antigüedad 2'\n",
    "- Si el Código está de 901 en adelante -> Va a tener el valor de 'Antigüedad 3'"
   ]
  },
  {
   "cell_type": "code",
   "execution_count": 219,
   "metadata": {},
   "outputs": [],
   "source": [
    "def antiguedad(i):\n",
    "    if i >= 0 and i <= 300:\n",
    "        return 'Antigüedad 1'\n",
    "    elif i > 300 and i <= 900:\n",
    "        return 'Antigüedad 2'\n",
    "    elif i > 900:\n",
    "        return 'Antigüedad 3'\n",
    "\n",
    "df['Antigüedad'] = df.apply(lambda x: antiguedad(x['Código']), axis=1)"
   ]
  },
  {
   "cell_type": "markdown",
   "metadata": {},
   "source": [
    "### 9.b Cantidad que pertenecen a cada categoría"
   ]
  },
  {
   "cell_type": "code",
   "execution_count": 221,
   "metadata": {},
   "outputs": [
    {
     "data": {
      "text/plain": [
       "Antiguedad 2    330\n",
       "Antiguedad 3    285\n",
       "Antiguedad 1    146\n",
       "Name: Antiguedad, dtype: int64"
      ]
     },
     "execution_count": 221,
     "metadata": {},
     "output_type": "execute_result"
    }
   ],
   "source": [
    "df['Antigüedad'].value_counts()"
   ]
  },
  {
   "cell_type": "markdown",
   "metadata": {},
   "source": [
    "### 10. Generar un Excel con todas las modificaciones realizadas al dataframe original"
   ]
  },
  {
   "cell_type": "code",
   "execution_count": null,
   "metadata": {},
   "outputs": [],
   "source": [
    "df.to_excel('df_final', index=False)"
   ]
  }
 ],
 "metadata": {
  "kernelspec": {
   "display_name": "Python 3.10.4 64-bit",
   "language": "python",
   "name": "python3"
  },
  "language_info": {
   "codemirror_mode": {
    "name": "ipython",
    "version": 3
   },
   "file_extension": ".py",
   "mimetype": "text/x-python",
   "name": "python",
   "nbconvert_exporter": "python",
   "pygments_lexer": "ipython3",
   "version": "3.10.4"
  },
  "orig_nbformat": 4,
  "vscode": {
   "interpreter": {
    "hash": "69354bf582f8a382f1db1841c96938b3dea4cfacdf31792a50496aab34291769"
   }
  }
 },
 "nbformat": 4,
 "nbformat_minor": 2
}
